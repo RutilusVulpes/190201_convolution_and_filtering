{
 "cells": [
  {
   "cell_type": "markdown",
   "metadata": {},
   "source": [
    "# In-class assignment: Convolution and filtering\n",
    "## 02.01.2019\n",
    "\n",
    "In project 1, we discussed the geometry of image formation, and how to map from coordinates in the real world to coordinates in the image.  Now, we switch gears and start to think about what do we do with images once we have them?  \n",
    "\n",
    "An image should be viewed as a function.  It takes two arguments ($u$ and $v$) and outputs an intensity $I$ (or perhaps a triple $I_r$, $I_g$, and $I_b$).  We can do all the normal things that we would do with functions, like adding, subtracting, multiplying by a constant, rotation and translation around an origin, and so on, and each of these operations will be useful.  However, when we think of *image processing*, the thing that comes to mind is usually the process of filtering.  For example, given a noisy image like this one:\n",
    "\n",
    "<img src='noisy_big_chief.jpeg'>\n",
    "\n",
    "How can we reduce the noise level?  E.g. how can we recover the true function $I(u,v)$, when the thing that we measure is $\\hat{I}(u,v) = I(u,v) + \\epsilon(u,v)$, $\\epsilon(u,v) \\sim \\mathcal{N}(0,\\sigma)$? \n",
    "\n",
    "The common approach is to take a moving average: for each pixel, approximate $I(u,v)$ with \n",
    "$$\n",
    "I(u,v) \\frac{1}{n} \\approx \\sum_{j,k} \\hat{I}(u+j,v+k),\n",
    "$$\n",
    "where $j$ and $k$ are indices of pixels in a neighborhood, and $n$ is the number of pixels in the neighborhood.  For example, if we assume a neighborhood as being the immediately adjacent pixels, then $j,k\\in\\{-1,0,1\\}$ and $n=9$.  This moving average is a special case of a more general operations called *convolution*, which is defined as \n",
    "$$\n",
    "(g \\star h)(u,v) = \\sum_{j,k} h(j,k) g(u+j,v+k),\n",
    "$$\n",
    "where $g$ is a 2D image, and $h$ is called the *kernel*.  For our previous neighborhood moving average example, what is the kernel?  **Please generate some code that applies convolution of an arbitrary image with an arbitrary array, then compute the convolution of an image of your choice with this kernel**."
   ]
  },
  {
   "cell_type": "code",
   "execution_count": null,
   "metadata": {},
   "outputs": [],
   "source": [
    "import numpy as np\n",
    "import matplotlib.pyplot as plt\n",
    "\n",
    "img_color = plt.imread('noisy_big_chief.jpeg')\n",
    "I_gray = img_color.mean(axis=2)\n",
    "\n",
    "I_gray_copy = img_color.mean(axis=2)\n",
    "\n",
    "h = np.array([[1/9,4/9,1/9],[4/9,1/9,4/9],[1/9,4/9,1/9]])\n",
    "        \n",
    "        \n",
    "# g @ h = A \n",
    "def convolve(g,h): # h is kernel, g is the image\n",
    "    start = 1\n",
    "    for i in range(start,len(g[:,1])-1):\n",
    "        for j in range(start, len(g[i,:])-1):\n",
    "            f = g[i-1:i+2, j-1:j+2] #FIXME\n",
    "            \n",
    "            # need another array to put value into\n",
    "            total = h*f\n",
    "       \n",
    "            I_gray_copy[i][j] = sum(sum(total))\n",
    "        \n",
    "    return I_gray_copy\n",
    "            # get 3x3 neighborhood of g then multiply it by h\n",
    "            # call kernel to get the average pixel value and set \n",
    "            \n",
    "\n",
    "    # Return the ave pixel value\n",
    "I_gray_copy = convolve(I_gray, h)\n",
    "im1 = convolve(I_gray, h)\n",
    "\n",
    "im1 = plt.imshow(im1)\n",
    "\n",
    "#plt.imread(im1)"
   ]
  },
  {
   "cell_type": "markdown",
   "metadata": {},
   "source": [
    "This particular kernel is called the box kernel, and it performs smoothing.  However, there are other choices for performing smoothing as well.  For example, for eliminating normally-distributed noise (i.e. white noise), the optimal kernel for recovering the denoised signal is called a Gaussian kernel.  Unsurprisingly, this kernel looks like a Gaussian:\n",
    "$$\n",
    "h_{gauss}(j,k;\\sigma) = Z \\exp -\\frac{j^2 + k^2}{2\\sigma^2},\n",
    "$$\n",
    "where $Z$ is a normalizing constant computed after the fact such that the sum of the kernel is unity.  This normalization is important as it keeps the smoothing filter from lightening or darkening the overall image.  **Generate a function that produces a gaussian kernel of arbitrary size and with arbitrary $\\sigma$.  Convolve this kernel with the same image as above (for a few choices of $\\sigma$ and neighborhood size), and think about any differences that appear**."
   ]
  },
  {
   "cell_type": "code",
   "execution_count": null,
   "metadata": {},
   "outputs": [],
   "source": []
  },
  {
   "cell_type": "markdown",
   "metadata": {},
   "source": [
    "Convolution can be used for things besides smoothing as well, depending on the choice of kernel.  One popular use (and one that we will use extensively) is convolution for computing *gradients*, the spatial derivative of an image.  It will become obvious why this is useful after you do it.  There are many choices of kernel that can be used to compute gradients, but the most common is a so-called Sobel operator:\n",
    "$$\n",
    "S_u = \\begin{bmatrix} -1 & 0 & 1\\\\\n",
    "                      -2 & 0 & 2\\\\\n",
    "                      -1 & 0 & 1 \\end{bmatrix}.\n",
    "$$\n",
    "**Convolve this kernel with your chosen image, and discuss what features this seems to accentuate.  Also try convolving the transpose of the kernel (which is S_v).  What features does the transpose highlight?**.\n",
    "                     "
   ]
  },
  {
   "cell_type": "code",
   "execution_count": null,
   "metadata": {},
   "outputs": [],
   "source": []
  }
 ],
 "metadata": {
  "kernelspec": {
   "display_name": "Python 3",
   "language": "python",
   "name": "python3"
  },
  "language_info": {
   "codemirror_mode": {
    "name": "ipython",
    "version": 3
   },
   "file_extension": ".py",
   "mimetype": "text/x-python",
   "name": "python",
   "nbconvert_exporter": "python",
   "pygments_lexer": "ipython3",
   "version": "3.7.2"
  }
 },
 "nbformat": 4,
 "nbformat_minor": 2
}
